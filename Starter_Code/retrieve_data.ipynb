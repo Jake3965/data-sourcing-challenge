{
 "cells": [
  {
   "cell_type": "markdown",
   "metadata": {},
   "source": [
    "### Import Required Libraries and Set Up Environment Variables"
   ]
  },
  {
   "cell_type": "code",
   "execution_count": 101,
   "metadata": {},
   "outputs": [
    {
     "name": "stdout",
     "output_type": "stream",
     "text": [
      "NASA API Key loaded: R1YaLwmk3dKS5mnxlnnZADyr86WmGO6Xtow7OMMQ\n"
     ]
    }
   ],
   "source": [
    "# Dependencies\n",
    "import requests\n",
    "import time\n",
    "from dotenv import load_dotenv\n",
    "import os\n",
    "import pandas as pd\n",
    "import json\n",
    "import os\n",
    "from datetime import datetime\n",
    "\n",
    "## Load the NASA_API_KEY from the env file\n",
    "load_dotenv()\n",
    "NASA_API_KEY = os.getenv('NASA_API_KEY')\n",
    "\n",
    "# Confirm success\n",
    "if NASA_API_KEY:\n",
    "    print(f\"NASA API Key loaded: {NASA_API_KEY}\")\n",
    "else:\n",
    "    print(\"Error: NASA API Key not found. Check your .env file.\")\n",
    "\n",
    "# Adjust display settings to avoid truncation and increase width\n",
    "pd.set_option('display.max_colwidth', None)  # Show full contents of columns without truncation\n",
    "pd.set_option('display.width', 1000)  # Increase the width of the display to avoid wrapping"
   ]
  },
  {
   "cell_type": "markdown",
   "metadata": {},
   "source": [
    "### CME Data"
   ]
  },
  {
   "cell_type": "code",
   "execution_count": 102,
   "metadata": {},
   "outputs": [
    {
     "name": "stdout",
     "output_type": "stream",
     "text": [
      "Constructed query URL: https://api.nasa.gov/DONKI/CME?startDate=2013-05-01&endDate=2024-05-01&api_key=R1YaLwmk3dKS5mnxlnnZADyr86WmGO6Xtow7OMMQ\n"
     ]
    }
   ],
   "source": [
    "# Set the base URL to NASA's DONKI API: \n",
    "base_url = \"https://api.nasa.gov/DONKI/\"\n",
    "\n",
    "# Set the specifier for CMEs:\n",
    "specifer = \"CME\"\n",
    "\n",
    "# Search for CMEs published between a begin and end date\n",
    "startDate = \"2013-05-01\"\n",
    "endDate   = \"2024-05-01\"\n",
    "\n",
    "# Build URL for CME\n",
    "query_url = F\"{base_url}{specifer}?startDate={startDate}&endDate={endDate}&api_key={NASA_API_KEY}\"\n",
    "\n",
    "print(f\"Constructed query URL: {query_url}\")"
   ]
  },
  {
   "cell_type": "code",
   "execution_count": 103,
   "metadata": {},
   "outputs": [
    {
     "name": "stdout",
     "output_type": "stream",
     "text": [
      "CME data retreieved succussfully!\n"
     ]
    }
   ],
   "source": [
    "# Make a \"GET\" request for the CME URL and store it in a variable named cme_response \n",
    "cme_response = requests.get(query_url)\n",
    "\n",
    "#check success\n",
    "if cme_response.status_code == 200:\n",
    "    print(\"CME data retreieved succussfully!\")\n",
    "else:\n",
    "    print(f\"Failed to retrieve CME data. Status code: {cme_response.status_code}\")\n"
   ]
  },
  {
   "cell_type": "code",
   "execution_count": 104,
   "metadata": {},
   "outputs": [
    {
     "name": "stdout",
     "output_type": "stream",
     "text": [
      "[{'activityID': '2013-05-01T03:12:00-CME-001', 'catalog': 'M2M_CATALOG', 'startTime': '2013-05-01T03:12Z', 'instruments': [{'displayName': 'SOHO: LASCO/C2'}, {'displayName': 'SOHO: LASCO/C3'}, {'displayName': 'STEREO A: SECCHI/COR2'}, {'displayName': 'STEREO B: SECCHI/COR2'}], 'sourceLocation': '', 'activeRegionNum': None, 'note': '', 'submissionTime': '2013-08-07T16:54Z', 'versionId': 1, 'link': 'https://webtools.ccmc.gsfc.nasa.gov/DONKI/view/CME/2349/-1', 'cmeAnalyses': [{'isMostAccurate': True, 'time21_5': '2013-05-01T07:07Z', 'latitude': 12.0, 'longitude': -120.0, 'halfAngle': 36.0, 'speed': 860.0, 'type': 'C', 'featureCode': 'null', 'imageType': None, 'measurementTechnique': 'null', 'note': '', 'levelOfData': 0, 'tilt': None, 'minorHalfWidth': None, 'speedMeasuredAtHeight': None, 'submissionTime': '2013-08-07T16:54Z', 'link': 'https://webtools.ccmc.gsfc.nasa.gov/DONKI/view/CMEAnalysis/2350/-1', 'enlilList': [{'modelCompletionTime': '2013-05-01T08:32Z', 'au': 2.0, 'estimatedShockArrivalTime': None, 'estimatedDuration': None, 'rmin_re': None, 'kp_18': None, 'kp_90': None, 'kp_135': None, 'kp_180': None, 'isEarthGB': False, 'link': 'https://webtools.ccmc.gsfc.nasa.gov/DONKI/view/WSA-ENLIL/2348/-1', 'impactList': [{'isGlancingBlow': False, 'location': 'STEREO B', 'arrivalTime': '2013-05-04T06:16Z'}], 'cmeIDs': ['2013-05-01T03:12:00-CME-001']}]}], 'linkedEvents': [{'activityID': '2013-05-04T04:52:00-IPS-001'}]}, {'activityID': '2013-05-02T05:24:00-CME-001', 'catalog': 'M2M_CATALOG', 'startTime': '2013-05-02T05:24Z', 'instruments': [{'displayName': 'SOHO: LASCO/C2'}, {'displayName': 'SOHO: LASCO/C3'}, {'displayName': 'STEREO A: SECCHI/COR2'}, {'displayName': 'STEREO B: SECCHI/COR2'}], 'sourceLocation': '', 'activeRegionNum': None, 'note': '', 'submissionTime': '2013-08-07T16:56Z', 'versionId': 1, 'link': 'https://webtools.ccmc.gsfc.nasa.gov/DONKI/view/CME/2352/-1', 'cmeAnalyses': [{'isMostAccurate': True, 'time21_5': '2013-05-02T13:30Z', 'latitude': 56.0, 'longitude': 19.0, 'halfAngle': 28.0, 'speed': 395.0, 'type': 'S', 'featureCode': 'null', 'imageType': None, 'measurementTechnique': 'null', 'note': '', 'levelOfData': 0, 'tilt': None, 'minorHalfWidth': None, 'speedMeasuredAtHeight': None, 'submissionTime': '2013-08-07T16:56Z', 'link': 'https://webtools.ccmc.gsfc.nasa.gov/DONKI/view/CMEAnalysis/2353/-1', 'enlilList': [{'modelCompletionTime': '2013-05-02T09:18Z', 'au': 2.0, 'estimatedShockArrivalTime': None, 'estimatedDuration': None, 'rmin_re': None, 'kp_18': None, 'kp_90': None, 'kp_135': None, 'kp_180': None, 'isEarthGB': False, 'link': 'https://webtools.ccmc.gsfc.nasa.gov/DONKI/view/WSA-ENLIL/2351/-1', 'impactList': None, 'cmeIDs': ['2013-05-02T05:24:00-CME-001']}]}], 'linkedEvents': None}, {'activityID': '2013-05-02T14:36:00-CME-001', 'catalog': 'M2M_CATALOG', 'startTime': '2013-05-02T14:36Z', 'instruments': [{'displayName': 'SOHO: LASCO/C2'}, {'displayName': 'SOHO: LASCO/C3'}, {'displayName': 'STEREO A: SECCHI/COR2'}, {'displayName': 'STEREO B: SECCHI/COR2'}], 'sourceLocation': '', 'activeRegionNum': None, 'note': '', 'submissionTime': '2013-08-07T16:57Z', 'versionId': 1, 'link': 'https://webtools.ccmc.gsfc.nasa.gov/DONKI/view/CME/2355/-1', 'cmeAnalyses': [{'isMostAccurate': True, 'time21_5': '2013-05-02T22:00Z', 'latitude': -16.0, 'longitude': 70.0, 'halfAngle': 22.0, 'speed': 350.0, 'type': 'S', 'featureCode': 'null', 'imageType': None, 'measurementTechnique': 'null', 'note': '', 'levelOfData': 0, 'tilt': None, 'minorHalfWidth': None, 'speedMeasuredAtHeight': None, 'submissionTime': '2013-08-07T16:57Z', 'link': 'https://webtools.ccmc.gsfc.nasa.gov/DONKI/view/CMEAnalysis/2356/-1', 'enlilList': [{'modelCompletionTime': '2013-05-03T09:33Z', 'au': 2.0, 'estimatedShockArrivalTime': None, 'estimatedDuration': None, 'rmin_re': None, 'kp_18': None, 'kp_90': None, 'kp_135': None, 'kp_180': None, 'isEarthGB': False, 'link': 'https://webtools.ccmc.gsfc.nasa.gov/DONKI/view/WSA-ENLIL/2354/-1', 'impactList': None, 'cmeIDs': ['2013-05-02T14:36:00-CME-001']}]}], 'linkedEvents': None}]\n"
     ]
    }
   ],
   "source": [
    "# Convert the response variable to json and store it as a variable named cme_json \n",
    "cme_json = cme_response.json()\n",
    "\n",
    "print(cme_json[:3])"
   ]
  },
  {
   "cell_type": "code",
   "execution_count": 105,
   "metadata": {
    "scrolled": true
   },
   "outputs": [
    {
     "name": "stdout",
     "output_type": "stream",
     "text": [
      "{\n",
      "    \"activityID\": \"2013-05-01T03:12:00-CME-001\",\n",
      "    \"catalog\": \"M2M_CATALOG\",\n",
      "    \"startTime\": \"2013-05-01T03:12Z\",\n",
      "    \"instruments\": [\n",
      "        {\n",
      "            \"displayName\": \"SOHO: LASCO/C2\"\n",
      "        },\n",
      "        {\n",
      "            \"displayName\": \"SOHO: LASCO/C3\"\n",
      "        },\n",
      "        {\n",
      "            \"displayName\": \"STEREO A: SECCHI/COR2\"\n",
      "        },\n",
      "        {\n",
      "            \"displayName\": \"STEREO B: SECCHI/COR2\"\n",
      "        }\n",
      "    ],\n",
      "    \"sourceLocation\": \"\",\n",
      "    \"activeRegionNum\": null,\n",
      "    \"note\": \"\",\n",
      "    \"submissionTime\": \"2013-08-07T16:54Z\",\n",
      "    \"versionId\": 1,\n",
      "    \"link\": \"https://webtools.ccmc.gsfc.nasa.gov/DONKI/view/CME/2349/-1\",\n",
      "    \"cmeAnalyses\": [\n",
      "        {\n",
      "            \"isMostAccurate\": true,\n",
      "            \"time21_5\": \"2013-05-01T07:07Z\",\n",
      "            \"latitude\": 12.0,\n",
      "            \"longitude\": -120.0,\n",
      "            \"halfAngle\": 36.0,\n",
      "            \"speed\": 860.0,\n",
      "            \"type\": \"C\",\n",
      "            \"featureCode\": \"null\",\n",
      "            \"imageType\": null,\n",
      "            \"measurementTechnique\": \"null\",\n",
      "            \"note\": \"\",\n",
      "            \"levelOfData\": 0,\n",
      "            \"tilt\": null,\n",
      "            \"minorHalfWidth\": null,\n",
      "            \"speedMeasuredAtHeight\": null,\n",
      "            \"submissionTime\": \"2013-08-07T16:54Z\",\n",
      "            \"link\": \"https://webtools.ccmc.gsfc.nasa.gov/DONKI/view/CMEAnalysis/2350/-1\",\n",
      "            \"enlilList\": [\n",
      "                {\n",
      "                    \"modelCompletionTime\": \"2013-05-01T08:32Z\",\n",
      "                    \"au\": 2.0,\n",
      "                    \"estimatedShockArrivalTime\": null,\n",
      "                    \"estimatedDuration\": null,\n",
      "                    \"rmin_re\": null,\n",
      "                    \"kp_18\": null,\n",
      "                    \"kp_90\": null,\n",
      "                    \"kp_135\": null,\n",
      "                    \"kp_180\": null,\n",
      "                    \"isEarthGB\": false,\n",
      "                    \"link\": \"https://webtools.ccmc.gsfc.nasa.gov/DONKI/view/WSA-ENLIL/2348/-1\",\n",
      "                    \"impactList\": [\n",
      "                        {\n",
      "                            \"isGlancingBlow\": false,\n",
      "                            \"location\": \"STEREO B\",\n",
      "                            \"arrivalTime\": \"2013-05-04T06:16Z\"\n",
      "                        }\n",
      "                    ],\n",
      "                    \"cmeIDs\": [\n",
      "                        \"2013-05-01T03:12:00-CME-001\"\n",
      "                    ]\n",
      "                }\n",
      "            ]\n",
      "        }\n",
      "    ],\n",
      "    \"linkedEvents\": [\n",
      "        {\n",
      "            \"activityID\": \"2013-05-04T04:52:00-IPS-001\"\n",
      "        }\n",
      "    ]\n",
      "}\n"
     ]
    }
   ],
   "source": [
    "# Preview the first result in JSON format \n",
    "# Use json.dumps with argument indent=4 to format data\n",
    "if cme_json:\n",
    "    first_result = cme_json[0]\n",
    "    formatted_first_result = json.dumps(first_result, indent=4)\n",
    "    print(formatted_first_result)\n",
    "else:\n",
    "    print(\"No CME Data available to preview.\")\n"
   ]
  },
  {
   "cell_type": "code",
   "execution_count": 106,
   "metadata": {},
   "outputs": [
    {
     "name": "stdout",
     "output_type": "stream",
     "text": [
      "                    activityID          startTime                                     linkedEvents\n",
      "0  2013-05-01T03:12:00-CME-001  2013-05-01T03:12Z  [{'activityID': '2013-05-04T04:52:00-IPS-001'}]\n",
      "1  2013-05-02T05:24:00-CME-001  2013-05-02T05:24Z                                             None\n",
      "2  2013-05-02T14:36:00-CME-001  2013-05-02T14:36Z                                             None\n",
      "3  2013-05-03T18:00:00-CME-001  2013-05-03T18:00Z                                             None\n",
      "4  2013-05-03T22:36:00-CME-001  2013-05-03T22:36Z  [{'activityID': '2013-05-07T04:37:00-IPS-001'}]\n"
     ]
    }
   ],
   "source": [
    "# Convert cme_json to a Pandas DataFrame \n",
    "cme_df = pd.DataFrame(cme_json)\n",
    "\n",
    "# Keep only the columns: activityID, startTime, linkedEvents\n",
    "cme_filtered_df = cme_df[['activityID', 'startTime', 'linkedEvents']]\n",
    "\n",
    "print(cme_filtered_df.head())"
   ]
  },
  {
   "cell_type": "code",
   "execution_count": 107,
   "metadata": {},
   "outputs": [
    {
     "name": "stdout",
     "output_type": "stream",
     "text": [
      "                     activityID          startTime                                                                                    linkedEvents\n",
      "0   2013-05-01T03:12:00-CME-001  2013-05-01T03:12Z                                                 [{'activityID': '2013-05-04T04:52:00-IPS-001'}]\n",
      "4   2013-05-03T22:36:00-CME-001  2013-05-03T22:36Z                                                 [{'activityID': '2013-05-07T04:37:00-IPS-001'}]\n",
      "7   2013-05-09T19:29:00-CME-001  2013-05-09T19:29Z                                                 [{'activityID': '2013-05-12T23:30:00-IPS-001'}]\n",
      "10  2013-05-13T02:54:00-CME-001  2013-05-13T02:54Z  [{'activityID': '2013-05-13T01:53:00-FLR-001'}, {'activityID': '2013-05-13T04:12:00-SEP-001'}]\n",
      "13  2013-05-13T16:18:00-CME-001  2013-05-13T16:18Z  [{'activityID': '2013-05-13T15:40:00-FLR-001'}, {'activityID': '2013-05-13T18:02:00-SEP-001'}]\n"
     ]
    }
   ],
   "source": [
    "# Notice that the linkedEvents column allows us to identify the corresponding GST \n",
    "# Remove rows with missing 'linkedEvents' since we won't be able to assign these to GSTs\n",
    "cme_filtered_df_cleaned = cme_filtered_df.dropna(subset=['linkedEvents'])\n",
    "\n",
    "print(cme_filtered_df_cleaned.head())"
   ]
  },
  {
   "cell_type": "code",
   "execution_count": 108,
   "metadata": {},
   "outputs": [
    {
     "name": "stdout",
     "output_type": "stream",
     "text": [
      "                    activityID          startTime        linkedEventActivityID\n",
      "0  2013-05-01T03:12:00-CME-001  2013-05-01T03:12Z  2013-05-04T04:52:00-IPS-001\n",
      "1  2013-05-03T22:36:00-CME-001  2013-05-03T22:36Z  2013-05-07T04:37:00-IPS-001\n",
      "2  2013-05-09T19:29:00-CME-001  2013-05-09T19:29Z  2013-05-12T23:30:00-IPS-001\n",
      "3  2013-05-13T02:54:00-CME-001  2013-05-13T02:54Z  2013-05-13T01:53:00-FLR-001\n",
      "4  2013-05-13T02:54:00-CME-001  2013-05-13T02:54Z  2013-05-13T04:12:00-SEP-001\n"
     ]
    }
   ],
   "source": [
    "# Notice that the linkedEvents sometimes contains multiple events per row \n",
    "# Write a nested for loop that iterates first over each row in the cme DataFrame (using the index)\n",
    "# and then iterates over the values in 'linkedEvents' \n",
    "# and adds the elements individually to a list of dictionaries where each row is one element \n",
    "\n",
    "# Initialize an empty list to store the expanded rows\n",
    "expanded_rows = []\n",
    "\n",
    "# Iterate over each index in the DataFrame\n",
    "for i in cme_filtered_df_cleaned.index:\n",
    "    activity_id = cme_filtered_df_cleaned.loc[i, 'activityID']\n",
    "    start_time = cme_filtered_df_cleaned.loc[i, 'startTime']\n",
    "    linked_events = cme_filtered_df_cleaned.loc[i, 'linkedEvents']\n",
    "\n",
    "    # Iterate over each dictionary in the list\n",
    "    if isinstance(linked_events, list):\n",
    "        for event in linked_events:\n",
    "        # Append a new dictionary to the expanded_rows list for each dictionary item and corresponding 'activityID' and 'startTime' value\n",
    "            expanded_rows.append({\n",
    "                'activityID': activity_id,\n",
    "                'startTime': start_time,\n",
    "                'linkedEventActivityID': event['activityID']\n",
    "        })\n",
    "             \n",
    "# Create a new DataFrame from the expanded rows\n",
    "expanded_df = pd.DataFrame(expanded_rows)\n",
    "\n",
    "print(expanded_df.head())"
   ]
  },
  {
   "cell_type": "code",
   "execution_count": 109,
   "metadata": {},
   "outputs": [
    {
     "name": "stdout",
     "output_type": "stream",
     "text": [
      "Extracted activityID: 2013-05-04T04:52:00-IPS-001\n"
     ]
    }
   ],
   "source": [
    "# Create a function called extract_activityID_from_dict that takes a dict as input such as in linkedEvents \n",
    "def extract_activityID_from_dict(input_dict):\n",
    "    try:\n",
    "        if isinstance(input_dict, list) and len(input_dict) > 0 and 'activityID' in input_dict[0]:\n",
    "            return input_dict[0]['activityID']\n",
    "        else:\n",
    "            return None\n",
    "    except (ValueError, TypeError, KeyError) as e:\n",
    "        print(f\"Error extracting activityID: {e}\")\n",
    "        return None\n",
    "# and verify below that it works as expected using one row from linkedEvents as an example\n",
    "example_linked_event = cme_filtered_df_cleaned.loc[0, 'linkedEvents']\n",
    "extracted_activity_id = extract_activityID_from_dict(example_linked_event)\n",
    "\n",
    "# Be sure to use a try and except block to handle errors\n",
    "\n",
    "        # Log the error or print it for debugging\n",
    "print(f\"Extracted activityID: {extracted_activity_id}\")\n",
    "\n"
   ]
  },
  {
   "cell_type": "code",
   "execution_count": 110,
   "metadata": {},
   "outputs": [
    {
     "name": "stdout",
     "output_type": "stream",
     "text": [
      "                     activityID               GST_ActivityID\n",
      "0   2013-05-01T03:12:00-CME-001  2013-05-04T04:52:00-IPS-001\n",
      "4   2013-05-03T22:36:00-CME-001  2013-05-07T04:37:00-IPS-001\n",
      "7   2013-05-09T19:29:00-CME-001  2013-05-12T23:30:00-IPS-001\n",
      "10  2013-05-13T02:54:00-CME-001  2013-05-13T01:53:00-FLR-001\n",
      "13  2013-05-13T16:18:00-CME-001  2013-05-13T15:40:00-FLR-001\n"
     ]
    }
   ],
   "source": [
    "# Apply this function to each row in the 'linkedEvents' column (you can use apply() and a lambda function) \n",
    "# and create a new column called 'GST_ActivityID' using loc indexer:\n",
    "cme_filtered_df_cleaned = cme_filtered_df_cleaned.copy()\n",
    "cme_filtered_df_cleaned.loc[:, 'GST_ActivityID'] = cme_filtered_df_cleaned['linkedEvents'].apply(lambda x: extract_activityID_from_dict(x))\n",
    "\n",
    "# Display the updated DataFrame to verify the new column\n",
    "print(cme_filtered_df_cleaned[['activityID', 'GST_ActivityID']].head())\n",
    "\n"
   ]
  },
  {
   "cell_type": "code",
   "execution_count": 111,
   "metadata": {},
   "outputs": [
    {
     "name": "stdout",
     "output_type": "stream",
     "text": [
      "                     activityID          startTime               GST_ActivityID\n",
      "0   2013-05-01T03:12:00-CME-001  2013-05-01T03:12Z  2013-05-04T04:52:00-IPS-001\n",
      "4   2013-05-03T22:36:00-CME-001  2013-05-03T22:36Z  2013-05-07T04:37:00-IPS-001\n",
      "7   2013-05-09T19:29:00-CME-001  2013-05-09T19:29Z  2013-05-12T23:30:00-IPS-001\n",
      "10  2013-05-13T02:54:00-CME-001  2013-05-13T02:54Z  2013-05-13T01:53:00-FLR-001\n",
      "13  2013-05-13T16:18:00-CME-001  2013-05-13T16:18Z  2013-05-13T15:40:00-FLR-001\n"
     ]
    }
   ],
   "source": [
    "# Remove rows with missing GST_ActivityID, since we can't assign them to GSTs: \n",
    "cme_final_df = cme_filtered_df_cleaned.dropna(subset=['GST_ActivityID'])\n",
    "\n",
    "print(cme_final_df[['activityID', 'startTime', 'GST_ActivityID']].head())"
   ]
  },
  {
   "cell_type": "code",
   "execution_count": 112,
   "metadata": {},
   "outputs": [
    {
     "name": "stdout",
     "output_type": "stream",
     "text": [
      "activityID        object\n",
      "startTime         object\n",
      "linkedEvents      object\n",
      "GST_ActivityID    object\n",
      "dtype: object\n"
     ]
    }
   ],
   "source": [
    "# print out the datatype of each column in this DataFrame: \n",
    "print(cme_final_df.dtypes)\n"
   ]
  },
  {
   "cell_type": "code",
   "execution_count": 113,
   "metadata": {},
   "outputs": [
    {
     "name": "stdout",
     "output_type": "stream",
     "text": [
      "<class 'pandas.core.frame.DataFrame'>\n",
      "Index: 1023 entries, 0 to 5523\n",
      "Data columns (total 3 columns):\n",
      " #   Column          Non-Null Count  Dtype              \n",
      "---  ------          --------------  -----              \n",
      " 0   cmeID           1023 non-null   object             \n",
      " 1   startTime_CME   1023 non-null   datetime64[ns, UTC]\n",
      " 2   GST_ActivityID  1023 non-null   string             \n",
      "dtypes: datetime64[ns, UTC](1), object(1), string(1)\n",
      "memory usage: 64.3+ KB\n",
      "None\n"
     ]
    }
   ],
   "source": [
    "# Convert the 'GST_ActivityID' column to string format \n",
    "cme_final_df['GST_ActivityID'] = cme_final_df['GST_ActivityID'].astype('string')\n",
    "\n",
    "# Convert startTime to datetime format  \n",
    "cme_final_df['startTime'] = pd.to_datetime(cme_final_df['startTime'], utc=True)\n",
    "\n",
    "# Rename startTime to startTime_CME and activityID to cmeID\n",
    "cme_final_df.rename(columns={'startTime': 'startTime_CME', 'activityID': 'cmeID'}, inplace=True)\n",
    "\n",
    "# Drop linkedEvents\n",
    "if 'linkedEvents' in cme_final_df.columns:\n",
    "    cme_final_df.drop(columns=['linkedEvents'], inplace=True)\n",
    "\n",
    "# Verify that all steps were executed correctly\n",
    "print(cme_final_df.info())\n"
   ]
  },
  {
   "cell_type": "code",
   "execution_count": 114,
   "metadata": {},
   "outputs": [
    {
     "name": "stdout",
     "output_type": "stream",
     "text": [
      "                            cmeID             startTime_CME               GST_ActivityID\n",
      "26    2013-06-02T20:24:00-CME-001 2013-06-02 20:24:00+00:00  2013-06-07T03:00:00-GST-001\n",
      "1358  2015-09-04T14:12:00-CME-001 2015-09-04 14:12:00+00:00  2015-09-09T03:00:00-GST-001\n",
      "1359  2015-09-04T19:24:00-CME-001 2015-09-04 19:24:00+00:00  2015-09-09T03:00:00-GST-001\n",
      "1361  2015-09-06T23:30:00-CME-001 2015-09-06 23:30:00+00:00  2015-09-11T06:00:00-GST-001\n",
      "1362  2015-09-07T10:36:00-CME-001 2015-09-07 10:36:00+00:00  2015-09-11T06:00:00-GST-001\n"
     ]
    }
   ],
   "source": [
    "# We are only interested in CMEs related to GSTs so keep only rows where the GST_ActivityID column contains 'GST' \n",
    "# use the method 'contains()' from the str library.  \n",
    "cme_gst_df = cme_final_df[cme_final_df['GST_ActivityID'].str.contains('GST', na=False)]\n",
    "\n",
    "print(cme_gst_df.head())\n"
   ]
  },
  {
   "cell_type": "markdown",
   "metadata": {},
   "source": [
    "### GST Data"
   ]
  },
  {
   "cell_type": "code",
   "execution_count": 115,
   "metadata": {},
   "outputs": [
    {
     "name": "stdout",
     "output_type": "stream",
     "text": [
      "Constructed GST URL: https://api.nasa.gov/DONKI/GST?startDate=2013-05-01&endDate=2024-05-01&api_key=R1YaLwmk3dKS5mnxlnnZADyr86WmGO6Xtow7OMMQ\n"
     ]
    }
   ],
   "source": [
    "# Set the base URL to NASA's DONKI API: \n",
    "base_url = \"https://api.nasa.gov/DONKI/\"\n",
    "\n",
    "# Set the specifier for Geomagnetic Storms (GST):\n",
    "GST = \"GST\"\n",
    "\n",
    "# Search for GSTs between a begin and end date\n",
    "startDate = \"2013-05-01\"\n",
    "endDate   = \"2024-05-01\"\n",
    "\n",
    "# Build URL for GST\n",
    "query_url_gst = f\"{base_url}{GST}?startDate={startDate}&endDate={endDate}&api_key={NASA_API_KEY}\"\n",
    "\n",
    "print(f\"Constructed GST URL: {query_url_gst}\")"
   ]
  },
  {
   "cell_type": "code",
   "execution_count": 116,
   "metadata": {},
   "outputs": [
    {
     "name": "stdout",
     "output_type": "stream",
     "text": [
      "GST data retrieved successfully!\n"
     ]
    }
   ],
   "source": [
    "# Make a \"GET\" request for the GST URL and store it in a variable named gst_response \n",
    "gst_response = requests.get(query_url_gst)\n",
    "\n",
    "# check success\n",
    "if gst_response.status_code == 200:\n",
    "    print(\"GST data retrieved successfully!\")\n",
    "    gst_json = gst_response.json()\n",
    "else:\n",
    "    print(f\"Failed to retrieve GST data. Status code: {gst_response.status_code}\")\n"
   ]
  },
  {
   "cell_type": "code",
   "execution_count": 117,
   "metadata": {},
   "outputs": [
    {
     "name": "stdout",
     "output_type": "stream",
     "text": [
      "{\n",
      "    \"gstID\": \"2013-06-01T01:00:00-GST-001\",\n",
      "    \"startTime\": \"2013-06-01T01:00Z\",\n",
      "    \"allKpIndex\": [\n",
      "        {\n",
      "            \"observedTime\": \"2013-06-01T01:00Z\",\n",
      "            \"kpIndex\": 6.0,\n",
      "            \"source\": \"NOAA\"\n",
      "        }\n",
      "    ],\n",
      "    \"link\": \"https://webtools.ccmc.gsfc.nasa.gov/DONKI/view/GST/326/-1\",\n",
      "    \"linkedEvents\": [\n",
      "        {\n",
      "            \"activityID\": \"2013-05-31T15:45:00-HSS-001\"\n",
      "        }\n",
      "    ],\n",
      "    \"submissionTime\": \"2013-07-15T19:26Z\",\n",
      "    \"versionId\": 1\n",
      "}\n"
     ]
    }
   ],
   "source": [
    "# Convert the response variable to json and store it as a variable named gst_json \n",
    "gst_json = gst_response.json()\n",
    "\n",
    "# Preview the first result in JSON format\n",
    "# Use json.dumps with argument indent=4 to format data\n",
    "\n",
    "print(json.dumps(gst_json[0], indent=4))\n"
   ]
  },
  {
   "cell_type": "code",
   "execution_count": 118,
   "metadata": {},
   "outputs": [
    {
     "name": "stdout",
     "output_type": "stream",
     "text": [
      "                         gstID          startTime                   activityID\n",
      "0  2013-06-01T01:00:00-GST-001  2013-06-01T01:00Z  2013-05-31T15:45:00-HSS-001\n",
      "1  2013-06-07T03:00:00-GST-001  2013-06-07T03:00Z  2013-06-02T20:24:00-CME-001\n",
      "2  2013-06-29T03:00:00-GST-001  2013-06-29T03:00Z                         None\n",
      "3  2013-10-02T03:00:00-GST-001  2013-10-02T03:00Z  2013-09-29T22:40:00-CME-001\n",
      "4  2013-12-08T00:00:00-GST-001  2013-12-08T00:00Z  2013-12-04T23:12:00-CME-001\n"
     ]
    }
   ],
   "source": [
    "# Convert gst_json to a Pandas DataFrame  \n",
    "gst_df = pd.DataFrame(gst_json)\n",
    "\n",
    "# Keep only the columns: activityID, startTime, linkedEvents\n",
    "gst_filtered_df = gst_df[['gstID', 'startTime', 'linkedEvents']].copy()\n",
    "\n",
    "gst_filtered_df['activityID'] = gst_filtered_df['linkedEvents'].apply(lambda x: x[0]['activityID'] if x and isinstance(x, list) else None)\n",
    "\n",
    "print(gst_filtered_df[['gstID', 'startTime', 'activityID']].head())"
   ]
  },
  {
   "cell_type": "code",
   "execution_count": 119,
   "metadata": {},
   "outputs": [
    {
     "name": "stdout",
     "output_type": "stream",
     "text": [
      "                         gstID          startTime                   activityID\n",
      "0  2013-06-01T01:00:00-GST-001  2013-06-01T01:00Z  2013-05-31T15:45:00-HSS-001\n",
      "1  2013-06-07T03:00:00-GST-001  2013-06-07T03:00Z  2013-06-02T20:24:00-CME-001\n",
      "3  2013-10-02T03:00:00-GST-001  2013-10-02T03:00Z  2013-09-29T22:40:00-CME-001\n",
      "4  2013-12-08T00:00:00-GST-001  2013-12-08T00:00Z  2013-12-04T23:12:00-CME-001\n",
      "5  2014-02-19T03:00:00-GST-001  2014-02-19T03:00Z  2014-02-16T14:15:00-CME-001\n"
     ]
    }
   ],
   "source": [
    "# Notice that the linkedEvents column allows us to identify the corresponding CME \n",
    "# Remove rows with missing 'linkedEvents' since we won't be able to assign these to CME\n",
    "gst_filtered_df_cleaned = gst_filtered_df.dropna(subset=['linkedEvents'])\n",
    "\n",
    "print(gst_filtered_df_cleaned[['gstID', 'startTime', 'activityID']].head())"
   ]
  },
  {
   "cell_type": "code",
   "execution_count": 120,
   "metadata": {},
   "outputs": [
    {
     "name": "stdout",
     "output_type": "stream",
     "text": [
      "                         gstID          startTime                                   linkedEvents\n",
      "0  2013-06-01T01:00:00-GST-001  2013-06-01T01:00Z  {'activityID': '2013-05-31T15:45:00-HSS-001'}\n",
      "1  2013-06-07T03:00:00-GST-001  2013-06-07T03:00Z  {'activityID': '2013-06-02T20:24:00-CME-001'}\n",
      "2  2013-10-02T03:00:00-GST-001  2013-10-02T03:00Z  {'activityID': '2013-09-29T22:40:00-CME-001'}\n",
      "3  2013-10-02T03:00:00-GST-001  2013-10-02T03:00Z  {'activityID': '2013-10-02T01:54:00-IPS-001'}\n",
      "4  2013-10-02T03:00:00-GST-001  2013-10-02T03:00Z  {'activityID': '2013-10-02T02:47:00-MPC-001'}\n"
     ]
    }
   ],
   "source": [
    "# Notice that the linkedEvents sometimes contains multiple events per row \n",
    "# Use the explode method to ensure that each row is one element. Ensure to reset the index and drop missing values.\n",
    "gst_exploded_df = gst_filtered_df_cleaned.explode('linkedEvents').reset_index(drop=True)\n",
    "\n",
    "print(gst_exploded_df[['gstID', 'startTime', 'linkedEvents']].head())"
   ]
  },
  {
   "cell_type": "code",
   "execution_count": 121,
   "metadata": {},
   "outputs": [
    {
     "name": "stdout",
     "output_type": "stream",
     "text": [
      "                         gstID          startTime                                   linkedEvents               CME_ActivityID\n",
      "0  2013-06-01T01:00:00-GST-001  2013-06-01T01:00Z  {'activityID': '2013-05-31T15:45:00-HSS-001'}  2013-05-31T15:45:00-HSS-001\n",
      "1  2013-06-07T03:00:00-GST-001  2013-06-07T03:00Z  {'activityID': '2013-06-02T20:24:00-CME-001'}  2013-06-02T20:24:00-CME-001\n",
      "2  2013-10-02T03:00:00-GST-001  2013-10-02T03:00Z  {'activityID': '2013-09-29T22:40:00-CME-001'}  2013-09-29T22:40:00-CME-001\n",
      "3  2013-10-02T03:00:00-GST-001  2013-10-02T03:00Z  {'activityID': '2013-10-02T01:54:00-IPS-001'}  2013-10-02T01:54:00-IPS-001\n",
      "4  2013-10-02T03:00:00-GST-001  2013-10-02T03:00Z  {'activityID': '2013-10-02T02:47:00-MPC-001'}  2013-10-02T02:47:00-MPC-001\n"
     ]
    }
   ],
   "source": [
    "# Apply the extract_activityID_from_dict function to each row in the 'linkedEvents' column (you can use apply() and a lambda function) \n",
    "# and create a new column called 'CME_ActivityID' using loc indexer:\n",
    "def extract_activityID_from_dict(event):\n",
    "    if isinstance(event, dict) and 'activityID' in event:\n",
    "        return event ['activityID']\n",
    "    return None\n",
    "\n",
    "gst_exploded_df.loc[:, 'CME_ActivityID'] = gst_exploded_df['linkedEvents'].apply(lambda x: extract_activityID_from_dict(x))\n",
    "\n",
    "# Remove rows with missing CME_ActivityID, since we can't assign them to CMEs:\n",
    "gst_exploded_df_cleaned = gst_exploded_df.dropna(subset=['CME_ActivityID'])\n",
    "\n",
    "print(gst_exploded_df_cleaned[['gstID', 'startTime', 'linkedEvents', 'CME_ActivityID']].head())\n"
   ]
  },
  {
   "cell_type": "code",
   "execution_count": 122,
   "metadata": {},
   "outputs": [
    {
     "name": "stdout",
     "output_type": "stream",
     "text": [
      "<class 'pandas.core.frame.DataFrame'>\n",
      "RangeIndex: 205 entries, 0 to 204\n",
      "Data columns (total 5 columns):\n",
      " #   Column          Non-Null Count  Dtype              \n",
      "---  ------          --------------  -----              \n",
      " 0   gstID           205 non-null    string             \n",
      " 1   startTime_GST   205 non-null    datetime64[ns, UTC]\n",
      " 2   activityID      205 non-null    object             \n",
      " 3   CME_ActivityID  205 non-null    object             \n",
      " 4   CME_activityID  205 non-null    string             \n",
      "dtypes: datetime64[ns, UTC](1), object(2), string(2)\n",
      "memory usage: 8.1+ KB\n",
      "None\n"
     ]
    }
   ],
   "source": [
    "# Convert the 'CME_ActivityID' column to string format \n",
    "gst_exploded_df_cleaned['CME_activityID'] = gst_exploded_df_cleaned['CME_ActivityID'].astype('string')\n",
    "\n",
    "# Convert the 'gstID' column to string format \n",
    "gst_exploded_df_cleaned['gstID'] = gst_exploded_df_cleaned['gstID'].astype('string')\n",
    "\n",
    "# Convert startTime to datetime format  \n",
    "gst_exploded_df_cleaned['startTime'] = pd.to_datetime(gst_exploded_df_cleaned['startTime'], utc=True)\n",
    "\n",
    "# Rename startTime to startTime_GST \n",
    "gst_exploded_df_cleaned.rename(columns={'startTime': 'startTime_GST'}, inplace=True)\n",
    "\n",
    "# Drop linkedEvents\n",
    "gst_exploded_df_cleaned.drop(columns=['linkedEvents'], inplace=True)\n",
    "\n",
    "# Verify that all steps were executed correctly\n",
    "print(gst_exploded_df_cleaned.info())\n"
   ]
  },
  {
   "cell_type": "code",
   "execution_count": 123,
   "metadata": {},
   "outputs": [
    {
     "name": "stdout",
     "output_type": "stream",
     "text": [
      "                         gstID             startTime_GST               CME_activityID\n",
      "1  2013-06-07T03:00:00-GST-001 2013-06-07 03:00:00+00:00  2013-06-02T20:24:00-CME-001\n",
      "2  2013-10-02T03:00:00-GST-001 2013-10-02 03:00:00+00:00  2013-09-29T22:40:00-CME-001\n",
      "5  2013-12-08T00:00:00-GST-001 2013-12-08 00:00:00+00:00  2013-12-04T23:12:00-CME-001\n",
      "7  2014-02-19T03:00:00-GST-001 2014-02-19 03:00:00+00:00  2014-02-16T14:15:00-CME-001\n",
      "9  2014-02-20T03:00:00-GST-001 2014-02-20 03:00:00+00:00  2014-02-18T01:25:00-CME-001\n"
     ]
    }
   ],
   "source": [
    "# We are only interested in GSTs related to CMEs so keep only rows where the CME_ActivityID column contains 'CME' \n",
    "# use the method 'contains()' from the str library.  \n",
    "gst_cme_filtered_df = gst_exploded_df_cleaned[gst_exploded_df_cleaned['CME_ActivityID'].str.contains('CME')]\n",
    "\n",
    "print(gst_cme_filtered_df[['gstID', 'startTime_GST', 'CME_activityID']].head())"
   ]
  },
  {
   "cell_type": "markdown",
   "metadata": {},
   "source": [
    "### Merge both datatsets"
   ]
  },
  {
   "cell_type": "code",
   "execution_count": 124,
   "metadata": {},
   "outputs": [
    {
     "name": "stdout",
     "output_type": "stream",
     "text": [
      "                         gstID             startTime_GST               CME_ActivityID                 activityID_y          startTime\n",
      "0  2013-06-07T03:00:00-GST-001 2013-06-07 03:00:00+00:00  2013-06-02T20:24:00-CME-001  2013-06-02T20:24:00-CME-001  2013-06-02T20:24Z\n",
      "1  2013-10-02T03:00:00-GST-001 2013-10-02 03:00:00+00:00  2013-09-29T22:40:00-CME-001  2013-09-29T22:40:00-CME-001  2013-09-29T22:40Z\n",
      "2  2013-12-08T00:00:00-GST-001 2013-12-08 00:00:00+00:00  2013-12-04T23:12:00-CME-001  2013-12-04T23:12:00-CME-001  2013-12-04T23:12Z\n",
      "3  2014-02-19T03:00:00-GST-001 2014-02-19 03:00:00+00:00  2014-02-16T14:15:00-CME-001  2014-02-16T14:15:00-CME-001  2014-02-16T14:15Z\n",
      "4  2014-02-20T03:00:00-GST-001 2014-02-20 03:00:00+00:00  2014-02-18T01:25:00-CME-001  2014-02-18T01:25:00-CME-001  2014-02-18T01:25Z\n"
     ]
    }
   ],
   "source": [
    "# Now merge both datasets using 'gstID' and 'CME_ActivityID' for gst and 'GST_ActivityID' and 'cmeID' for cme. Use the 'left_on' and 'right_on' specifiers. \n",
    "merged_df = pd.merge(gst_cme_filtered_df, cme_df, left_on='CME_ActivityID', right_on='activityID', how='inner')\n",
    "\n",
    "print(merged_df[['gstID', 'startTime_GST', 'CME_ActivityID', 'activityID_y', 'startTime']].head())"
   ]
  },
  {
   "cell_type": "code",
   "execution_count": 135,
   "metadata": {},
   "outputs": [
    {
     "name": "stdout",
     "output_type": "stream",
     "text": [
      "Number of rows in the merged DataFrame: 61\n",
      "Number of rows in the GST DataFrame: 61\n",
      "Number of rows in the CME DataFrame: 5524\n",
      "<class 'pandas.core.frame.DataFrame'>\n",
      "RangeIndex: 61 entries, 0 to 60\n",
      "Data columns (total 5 columns):\n",
      " #   Column          Non-Null Count  Dtype              \n",
      "---  ------          --------------  -----              \n",
      " 0   gstID           61 non-null     string             \n",
      " 1   startTime_GST   61 non-null     datetime64[ns, UTC]\n",
      " 2   GST_ActivityID  61 non-null     object             \n",
      " 3   cmeID           61 non-null     object             \n",
      " 4   startTime_CME   61 non-null     object             \n",
      "dtypes: datetime64[ns, UTC](1), object(3), string(1)\n",
      "memory usage: 2.5+ KB\n",
      "None\n"
     ]
    }
   ],
   "source": [
    "# Define final_df using the correct column names \n",
    "final_df = merged_df[['gstID', 'startTime_GST', 'CME_ActivityID', 'activityID_y', 'startTime']]\n",
    "\n",
    "# Rename columns for clarity without using inplace to avoid the warning\n",
    "final_df = final_df.rename(columns={'CME_ActivityID': 'GST_ActivityID', 'activityID_y': 'cmeID', 'startTime': 'startTime_CME'})\n",
    "\n",
    "# Verify the number of rows in the new DataFrame\n",
    "print(f\"Number of rows in the merged DataFrame: {len(final_df)}\")\n",
    "print(f\"Number of rows in the GST DataFrame: {len(gst_cme_filtered_df)}\")\n",
    "print(f\"Number of rows in the CME DataFrame: {len(cme_df)}\")\n",
    "\n",
    "# Verify the structure and datatypes of the new DataFrame\n",
    "print(final_df.info())\n"
   ]
  },
  {
   "cell_type": "markdown",
   "metadata": {},
   "source": [
    "### Computing the time it takes for a CME to cause a GST"
   ]
  },
  {
   "cell_type": "code",
   "execution_count": 137,
   "metadata": {},
   "outputs": [
    {
     "name": "stdout",
     "output_type": "stream",
     "text": [
      "                         gstID             startTime_GST               GST_ActivityID                        cmeID             startTime_CME        timeDiff\n",
      "0  2013-06-07T03:00:00-GST-001 2013-06-07 03:00:00+00:00  2013-06-02T20:24:00-CME-001  2013-06-02T20:24:00-CME-001 2013-06-02 20:24:00+00:00 4 days 06:36:00\n",
      "1  2013-10-02T03:00:00-GST-001 2013-10-02 03:00:00+00:00  2013-09-29T22:40:00-CME-001  2013-09-29T22:40:00-CME-001 2013-09-29 22:40:00+00:00 2 days 04:20:00\n",
      "2  2013-12-08T00:00:00-GST-001 2013-12-08 00:00:00+00:00  2013-12-04T23:12:00-CME-001  2013-12-04T23:12:00-CME-001 2013-12-04 23:12:00+00:00 3 days 00:48:00\n",
      "3  2014-02-19T03:00:00-GST-001 2014-02-19 03:00:00+00:00  2014-02-16T14:15:00-CME-001  2014-02-16T14:15:00-CME-001 2014-02-16 14:15:00+00:00 2 days 12:45:00\n",
      "4  2014-02-20T03:00:00-GST-001 2014-02-20 03:00:00+00:00  2014-02-18T01:25:00-CME-001  2014-02-18T01:25:00-CME-001 2014-02-18 01:25:00+00:00 2 days 01:35:00\n"
     ]
    }
   ],
   "source": [
    "# Convert 'startTime_CME' to datetime format if it's not already \n",
    "final_df['startTime_CME'] = pd.to_datetime(final_df['startTime_CME'], errors='coerce', utc=True)\n",
    "\n",
    "# Compute the time difference between startTime_GST and startTime_CME\n",
    "final_df['timeDiff'] = final_df['startTime_GST'] - final_df['startTime_CME']\n",
    "\n",
    "# Display the resulting DataFrame to verify the timeDiff column and ensure all necessary columns are present\n",
    "print(final_df[['gstID', 'startTime_GST', 'GST_ActivityID', 'cmeID', 'startTime_CME', 'timeDiff']].head())\n",
    "\n"
   ]
  },
  {
   "cell_type": "code",
   "execution_count": 139,
   "metadata": {},
   "outputs": [
    {
     "name": "stdout",
     "output_type": "stream",
     "text": [
      "count                           61\n",
      "mean     2 days 23:29:26.557377049\n",
      "std      0 days 23:53:09.336914240\n",
      "min                1 days 08:36:00\n",
      "25%                2 days 04:00:00\n",
      "50%                2 days 19:51:00\n",
      "75%                3 days 13:35:00\n",
      "max                6 days 03:00:00\n",
      "Name: timeDiff, dtype: object\n"
     ]
    }
   ],
   "source": [
    "# Use describe() to compute the mean and median time \n",
    "# that it takes for a CME to cause a GST. \n",
    "time_stats = final_df['timeDiff'].describe()\n",
    "\n",
    "print(time_stats)"
   ]
  },
  {
   "cell_type": "markdown",
   "metadata": {},
   "source": [
    "### Exporting data in csv format"
   ]
  },
  {
   "cell_type": "code",
   "execution_count": 140,
   "metadata": {},
   "outputs": [
    {
     "name": "stdout",
     "output_type": "stream",
     "text": [
      "Data exported successfully to 'cme_gst_data.csv'\n"
     ]
    }
   ],
   "source": [
    "# Export data to CSV without the index \n",
    "final_df.to_csv('cme_gst_data.csv', index=False)\n",
    "\n",
    "print(\"Data exported successfully to 'cme_gst_data.csv'\")"
   ]
  }
 ],
 "metadata": {
  "kernelspec": {
   "display_name": "Python 3 (ipykernel)",
   "language": "python",
   "name": "python3"
  },
  "language_info": {
   "codemirror_mode": {
    "name": "ipython",
    "version": 3
   },
   "file_extension": ".py",
   "mimetype": "text/x-python",
   "name": "python",
   "nbconvert_exporter": "python",
   "pygments_lexer": "ipython3",
   "version": "3.12.4"
  },
  "varInspector": {
   "cols": {
    "lenName": 16,
    "lenType": 16,
    "lenVar": 40
   },
   "kernels_config": {
    "python": {
     "delete_cmd_postfix": "",
     "delete_cmd_prefix": "del ",
     "library": "var_list.py",
     "varRefreshCmd": "print(var_dic_list())"
    },
    "r": {
     "delete_cmd_postfix": ") ",
     "delete_cmd_prefix": "rm(",
     "library": "var_list.r",
     "varRefreshCmd": "cat(var_dic_list()) "
    }
   },
   "types_to_exclude": [
    "module",
    "function",
    "builtin_function_or_method",
    "instance",
    "_Feature"
   ],
   "window_display": false
  }
 },
 "nbformat": 4,
 "nbformat_minor": 4
}
